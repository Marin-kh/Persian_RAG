{
 "cells": [
  {
   "cell_type": "code",
   "execution_count": 1,
   "id": "0a803f52-8a6d-4c6c-a59d-77a8228fffa3",
   "metadata": {},
   "outputs": [
    {
     "data": {
      "text/plain": [
       "True"
      ]
     },
     "execution_count": 1,
     "metadata": {},
     "output_type": "execute_result"
    }
   ],
   "source": [
    "from dotenv import load_dotenv\n",
    "load_dotenv()"
   ]
  },
  {
   "cell_type": "markdown",
   "id": "14e78cf8-78fa-4bd1-95ba-9013c932ba75",
   "metadata": {},
   "source": [
    "# Setup"
   ]
  },
  {
   "cell_type": "code",
   "execution_count": 7,
   "id": "84c8bce8-e4a7-4a30-8b13-383413e42c5d",
   "metadata": {},
   "outputs": [],
   "source": [
    "import json\n",
    "import getpass\n",
    "import os\n",
    "import pandas as pd\n",
    "from docx import Document as DocxDocument\n",
    "from IPython.display import Image, display\n",
    "from pydantic import BaseModel, Field\n",
    "from typing import TypedDict, List, Annotated, Optional, Literal\n",
    "from langchain import hub\n",
    "from langchain_core.vectorstores import InMemoryVectorStore\n",
    "from langchain.docstore.document import Document\n",
    "from langchain_text_splitters import RecursiveCharacterTextSplitter\n",
    "from langchain.chat_models import init_chat_model\n",
    "from langchain_openai import OpenAIEmbeddings\n",
    "from langchain_huggingface import HuggingFaceEmbeddings\n",
    "from langchain_core.tools import tool\n",
    "from langchain_core.messages import SystemMessage,HumanMessage\n",
    "from langgraph.prebuilt import ToolNode\n",
    "from langgraph.graph import StateGraph, START, END\n",
    "from langgraph.graph import MessagesState, StateGraph\n",
    "from langgraph.prebuilt import ToolNode, tools_condition\n",
    "from langchain_core.messages import AnyMessage, AIMessage"
   ]
  },
  {
   "cell_type": "code",
   "execution_count": 11,
   "id": "264734e4-11dd-458f-a9e3-bc49d4449506",
   "metadata": {},
   "outputs": [
    {
     "name": "stdin",
     "output_type": "stream",
     "text": [
      "Enter API key for OpenAI:  ········\n"
     ]
    }
   ],
   "source": [
    "if not os.environ.get(\"OPENAI_API_KEY\"):\n",
    "  os.environ[\"OPENAI_API_KEY\"] = getpass.getpass(\"Enter API key for OpenAI: \")\n",
    "\n",
    "llm = init_chat_model(\"gpt-4o-mini\", model_provider=\"openai\")\n",
    "embeddings = OpenAIEmbeddings(model=\"text-embedding-3-large\")\n"
   ]
  },
  {
   "cell_type": "code",
   "execution_count": 12,
   "id": "dac728d9-8123-4eaa-8c32-4208a9a69bbf",
   "metadata": {},
   "outputs": [],
   "source": [
    "vector_store = InMemoryVectorStore(embeddings)"
   ]
  },
  {
   "cell_type": "markdown",
   "id": "6c0b368a-3890-48f0-ab07-57296d5f4e62",
   "metadata": {},
   "source": [
    "# Document loader"
   ]
  },
  {
   "cell_type": "code",
   "execution_count": 15,
   "id": "dd6690e4-de8f-4a48-8c52-d7de496fef5b",
   "metadata": {},
   "outputs": [],
   "source": [
    "df_cities = pd.read_csv(\"/home/jovyan/projects/marin/delta-chatbot/notebooks/cities_per_en.csv\")"
   ]
  },
  {
   "cell_type": "code",
   "execution_count": 16,
   "id": "43f28290-8727-49ff-abfc-7af6e7b06f0d",
   "metadata": {},
   "outputs": [],
   "source": [
    "docx = DocxDocument(\"/home/jovyan/projects/marin/delta-chatbot/notebooks/delta.docx\")\n",
    "text = \"\\n\".join([para.text for para in docx.paragraphs if para.text.strip()])\n",
    "\n",
    "docs = [Document(page_content=text, metadata={\"source\": \"/content/drive/My Drive/delta.docx\"})]"
   ]
  },
  {
   "cell_type": "code",
   "execution_count": 17,
   "id": "900123d1-d768-44e3-a714-a044328ada31",
   "metadata": {},
   "outputs": [],
   "source": [
    "text_splitter = RecursiveCharacterTextSplitter(chunk_size=1000, chunk_overlap=200)\n",
    "all_splits = text_splitter.split_documents(docs)"
   ]
  },
  {
   "cell_type": "code",
   "execution_count": 18,
   "id": "5e2179d2-9849-43ae-be23-48a1ee65691a",
   "metadata": {},
   "outputs": [
    {
     "name": "stderr",
     "output_type": "stream",
     "text": [
      "/opt/conda/lib/python3.12/site-packages/langsmith/client.py:272: LangSmithMissingAPIKeyWarning: API key must be provided when using hosted LangSmith API\n",
      "  warnings.warn(\n"
     ]
    }
   ],
   "source": [
    "_ = vector_store.add_documents(documents=all_splits)\n",
    "\n",
    "prompt = hub.pull(\"rlm/rag-prompt\")"
   ]
  },
  {
   "cell_type": "markdown",
   "id": "e4efc375-a904-4e87-bf90-189663524d97",
   "metadata": {},
   "source": [
    "# Functions & Classes"
   ]
  },
  {
   "cell_type": "code",
   "execution_count": 19,
   "id": "2d20a288-ed3a-4232-9134-27c582a517c2",
   "metadata": {},
   "outputs": [],
   "source": [
    "def get_city_link_by_name(persian_name: str):\n",
    "    try:\n",
    "        result = df_cities[df_cities['name'] == persian_name]['name_en']\n",
    "\n",
    "        if not result.empty:\n",
    "            return result.iloc[0]\n",
    "        else:\n",
    "            return None\n",
    "    except Exception as e:\n",
    "        return None\n",
    "\n",
    "PROPERTY_TYPE_MAPPING = {\n",
    "    \"زمین\": {\"url\": \"store\", \"display\": \"زمین\"},\n",
    "    \"آپارتمان موقعیت اداری\": {\"url\": \"OfficeLocationApartment\", \"display\": \"آپارتمان موقعیت اداری\"},\n",
    "    \"باغ\": {\"url\": \"garden\", \"display\": \"باغ\"},\n",
    "    \"باغچه\": {\"url\": \"garden\", \"display\": \"باغ\"},\n",
    "    \"تجاری\": {\"url\": \"commercial\", \"display\": \"تجاری\"},\n",
    "    \"مغازه\": {\"url\": \"commercial\", \"display\": \"مغازه\"},\n",
    "    \"آپارتمان\": {\"url\": \"apartment\", \"display\": \"آپارتمان\"}\n",
    "}\n",
    "property_types = list(PROPERTY_TYPE_MAPPING.keys())"
   ]
  },
  {
   "cell_type": "code",
   "execution_count": 20,
   "id": "2fedfb4d-aa34-4c11-b607-12165b09841d",
   "metadata": {},
   "outputs": [],
   "source": [
    "def search_properties(min_meter: Optional[int] = None, max_meter: Optional[int] = None,\n",
    "                      min_price: Optional[int] = None, max_price: Optional[int] = None,\n",
    "                      city: Optional[str] = \"tehran\", elevator: Optional[bool] = None,\n",
    "                      property_type: Optional[str] = \"apartment\") -> str:\n",
    "    \"\"\"\n",
    "    if the user wants to buy or rent property make url with filters for city, area, price, elevator, and property type.\n",
    "    \"\"\"\n",
    "\n",
    "    if not property_type:\n",
    "        property_type = \"apartment\"\n",
    "    else:\n",
    "        property_type = PROPERTY_TYPE_MAPPING[property_type][\"url\"]\n",
    "        \n",
    "    print(f\"search_properties_func args: city={city}, min_price={min_price}, property_type={property_type}\")  # Debugging\n",
    "    base_url = f\"https://deltadev.ir/{city}/buy/{property_type}\"\n",
    "\n",
    "    query_params = []\n",
    "    if min_meter is not None and max_meter is not None:\n",
    "        query_params.append(f\"meter={min_meter}-{max_meter}\")\n",
    "    elif min_meter is not None:\n",
    "        query_params.append(f\"meter={min_meter}-\")\n",
    "    elif max_meter is not None:\n",
    "        query_params.append(f\"meter=-{max_meter}\")\n",
    "\n",
    "    if min_price is not None and max_price is not None:\n",
    "        query_params.append(f\"price={min_price}-{max_price}\")\n",
    "    elif min_price is not None:\n",
    "        query_params.append(f\"price={min_price}-\")\n",
    "    elif max_price is not None:\n",
    "        query_params.append(f\"price=-{max_price}\")\n",
    "\n",
    "    if elevator:\n",
    "        query_params.append(\"features=elevator\")\n",
    "\n",
    "    query_string = \"?\" + \"&\".join(query_params) if query_params else \"\"\n",
    "    url = base_url + query_string\n",
    "\n",
    "    filters = []\n",
    "    if min_meter is not None and max_meter is not None:\n",
    "        filters.append(f\"{min_meter} تا {max_meter} متر\")\n",
    "    elif min_meter is not None:\n",
    "        filters.append(f\"حداقل {min_meter} متر\")\n",
    "    elif max_meter is not None:\n",
    "        filters.append(f\"حداکثر {max_meter} متر\")\n",
    "\n",
    "    if min_price is not None and max_price is not None:\n",
    "        filters.append(f\"بین {min_price:,} تا {max_price:,} تومان\")\n",
    "    elif min_price is not None:\n",
    "        filters.append(f\"حداقل {min_price:,} تومان\")\n",
    "    elif max_price is not None:\n",
    "        filters.append(f\"حداکثر {max_price:,} تومان\")\n",
    "\n",
    "    if elevator:\n",
    "        filters.append(\"با آسانسور\")\n",
    "\n",
    "    if filters:\n",
    "        filters_str = \"، \".join(filters)\n",
    "        explanation = f\"با ویژگی‌هایی که گفتید ({filters_str})، می‌توانید بر روی این لینک کلیک کنید و ملک‌های مشابه را پیدا کنید: {url}\"\n",
    "    else:\n",
    "        explanation = f\"می‌توانید بر روی این لینک کلیک کنید و ملک‌های موجود را مشاهده کنید: {url}\"\n",
    "\n",
    "    return url"
   ]
  },
  {
   "cell_type": "code",
   "execution_count": 83,
   "id": "6863b3c2-f808-492f-80d9-28fc3109019a",
   "metadata": {},
   "outputs": [],
   "source": [
    "class PropertyFeatures(BaseModel):\n",
    "    min_meter: Optional[int] = Field(default=None, description=\"Minimum square meters\")\n",
    "    max_meter: Optional[int] = Field(default=None, description=\"Maximum square meters\")\n",
    "    min_price: Optional[int] = Field(default=None, description=\"Minimum price in Tomans\")\n",
    "    max_price: Optional[int] = Field(default=None, description=\"Maximum price in Tomans\")\n",
    "    city: Literal[tuple(df_cities['city'])] = Field(default=\"other\", description=\"City name\")\n",
    "    elevator: Optional[bool] = Field(default=None, description=\"Elevator required (True/False)\")\n",
    "    property_type: Literal[*property_types]= Field(default=\"other\", description=\"property type\") "
   ]
  },
  {
   "cell_type": "markdown",
   "id": "383907c3-7473-443c-a454-7e5ad0bec2eb",
   "metadata": {},
   "source": [
    "# Tools"
   ]
  },
  {
   "cell_type": "code",
   "execution_count": 25,
   "id": "8b527485-f263-47d1-9485-e4d5fe35c1ab",
   "metadata": {},
   "outputs": [],
   "source": [
    "@tool\n",
    "def retrieve(query: str):\n",
    "    \"\"\"Retrieves relevant documents based on the last message content.\"\"\"\n",
    "    retrieved_docs = vector_store.similarity_search(query, k=2)\n",
    "    serialized = \"\\n\\n\".join(\n",
    "        (f\"Source: {doc.metadata}\\n\" f\"Content: {doc.page_content}\")\n",
    "        for doc in retrieved_docs\n",
    "    )\n",
    "    return serialized, retrieved_docs\n",
    "\n",
    "\n",
    "@tool\n",
    "def make_buy_url(query: str):\n",
    "    \"\"\"\n",
    "    If user wants to buy a property, \n",
    "    Extracts property features from the last message using a structured LLM \n",
    "    and make a url based on features.\n",
    "    \"\"\"\n",
    "    structured_llm = llm.with_structured_output(PropertyFeatures)\n",
    "    property_features = structured_llm.invoke(query)\n",
    "    print(property_features)\n",
    "\n",
    "    result = search_properties(**property_features.model_dump())\n",
    "\n",
    "    return result\n",
    "    \n",
    "tools = [retrieve, make_buy_url]"
   ]
  },
  {
   "cell_type": "markdown",
   "id": "c2dec019-1c2d-4301-998e-d1875532326f",
   "metadata": {},
   "source": [
    "# Chains"
   ]
  },
  {
   "cell_type": "code",
   "execution_count": 36,
   "id": "e82ee4d5-4a05-4c12-beb3-e21ee4569700",
   "metadata": {},
   "outputs": [],
   "source": [
    "\n",
    "def query_or_respond(state: MessagesState):\n",
    "    \"\"\"Generate tool call or respond.\"\"\"\n",
    "    llm_with_tools = llm.bind_tools(tools)\n",
    "    response = llm_with_tools.invoke(state[\"messages\"])\n",
    "\n",
    "    return {\"messages\": [response]}\n",
    "\n",
    "\n",
    "def generate(state: MessagesState):\n",
    "    \"\"\"Generates a response based on context or property search results.\"\"\"\n",
    "    recent_tool_messages = []\n",
    "    for message in reversed(state[\"messages\"]):\n",
    "        if message.type == \"tool\":\n",
    "            recent_tool_messages.append(message)\n",
    "        else:\n",
    "            break\n",
    "    tool_messages = recent_tool_messages[::-1]\n",
    "\n",
    "    docs_content = \"\\n\\n\".join(doc.content for doc in tool_messages)\n",
    "    system_message_content = (\n",
    "        \"You are an Real estate consultant for question-answering tasks.\"\n",
    "        \"Use the following pieces of retrieved context to answer \"\n",
    "        \"If you got a url give it to user\"\n",
    "        \"the question. If you don't know the answer, say that you \"\n",
    "        \"don't know. Use three sentences maximum and keep the \"\n",
    "        \"don't mention the source of the document only answer it\"\n",
    "        \"answer concise.\"\n",
    "        \"\\n\\n\"\n",
    "        f\"{docs_content}\"\n",
    "    )\n",
    "    conversation_messages = [\n",
    "        message\n",
    "        for message in state[\"messages\"]\n",
    "        if message.type in (\"human\", \"system\")\n",
    "        or (message.type == \"ai\" and not message.tool_calls)\n",
    "    ]\n",
    "    prompt = [SystemMessage(system_message_content)] + conversation_messages\n",
    "\n",
    "    response = llm.invoke(prompt)\n",
    "    return {\"messages\": [response]}\n",
    "\n",
    "\n",
    "graph_builder = StateGraph(MessagesState)\n",
    "graph_builder.add_node(query_or_respond)\n",
    "tool_node = ToolNode(tools)\n",
    "graph_builder.add_node(tool_node)\n",
    "graph_builder.add_node(generate)\n",
    "\n",
    "graph_builder.set_entry_point(\"query_or_respond\")\n",
    "graph_builder.add_conditional_edges(\n",
    "    \"query_or_respond\",\n",
    "    tools_condition,\n",
    "    {END: END, \"tools\": \"tools\"},\n",
    ")\n",
    "graph_builder.add_edge(\"tools\", \"generate\")\n",
    "graph_builder.add_edge(\"generate\", END)\n",
    "\n",
    "graph = graph_builder.compile()"
   ]
  },
  {
   "cell_type": "code",
   "execution_count": 32,
   "id": "af10d38b-3d89-4ace-a059-3603ee0f793f",
   "metadata": {},
   "outputs": [
    {
     "data": {
      "image/png": "[encoded data removed]",
      "text/plain": [
       "<langgraph.graph.state.CompiledStateGraph object at 0x7f1cec646a50>"
      ]
     },
     "execution_count": 32,
     "metadata": {},
     "output_type": "execute_result"
    }
   ],
   "source": [
    "graph"
   ]
  },
  {
   "cell_type": "markdown",
   "id": "d78d6c07-6796-4c0e-a41c-07afa9b0ae3b",
   "metadata": {},
   "source": [
    "# Usage"
   ]
  },
  {
   "cell_type": "code",
   "execution_count": 28,
   "id": "4a036fa7-ef74-4dc7-8f53-4502e884cab8",
   "metadata": {},
   "outputs": [
    {
     "name": "stdout",
     "output_type": "stream",
     "text": [
      "================================\u001b[1m Human Message \u001b[0m=================================\n",
      "\n",
      "یه خونه 70 متری حدود ۳ میلیارد توی نیویورک میخوام بخرم\n",
      "==================================\u001b[1m Ai Message \u001b[0m==================================\n",
      "Tool Calls:\n",
      "  make_buy_url (call_TRWAhErSTLiCxGFxHGvtyoDM)\n",
      " Call ID: call_TRWAhErSTLiCxGFxHGvtyoDM\n",
      "  Args:\n",
      "    query: خونه 70 متری در نیویورک با قیمت حدود 3 میلیارد\n",
      "min_meter=70 max_meter=70 min_price=3000000000 max_price=3000000000 city='tehran' elevator=None property_type='آپارتمان'\n",
      "search_properties_func args: city=tehran, min_price=3000000000, property_type=apartment\n",
      "=================================\u001b[1m Tool Message \u001b[0m=================================\n",
      "Name: make_buy_url\n",
      "\n",
      "https://deltadev.ir/tehran/buy/apartment?meter=70-70&price=3000000000-3000000000\n",
      "==================================\u001b[1m Ai Message \u001b[0m==================================\n",
      "\n",
      "متأسفانه اطلاعاتی درباره قیمت‌ها و خرید ملک در نیویورک ندارم. اما می‌توانید به وب‌سایت‌های معتبر و مشاورین املاک مراجعه کنید. برای اطلاعات بیشتر در مورد خرید آپارتمان در تهران، می‌توانید به این لینک مراجعه کنید: [خرید آپارتمان در تهران](https://deltadev.ir/tehran/buy/apartment?meter=70-70&price=3000000000-3000000000).\n"
     ]
    }
   ],
   "source": [
    "input_message = \"یه خونه 70 متری حدود ۳ میلیارد توی نیویورک میخوام بخرم\"\n",
    "\n",
    "for step in graph.stream(\n",
    "    {\"messages\": [{\"role\": \"human\", \"content\": input_message}]},\n",
    "    stream_mode=\"values\"\n",
    "):\n",
    "    step[\"messages\"][-1].pretty_print()"
   ]
  },
  {
   "cell_type": "code",
   "execution_count": 37,
   "id": "0b049129-95d7-45fa-aee2-1609f2086295",
   "metadata": {},
   "outputs": [
    {
     "name": "stdout",
     "output_type": "stream",
     "text": [
      "================================\u001b[1m Human Message \u001b[0m=================================\n",
      "\n",
      "نحوه ثبت آگهی در سایت چگونه است؟\n",
      "==================================\u001b[1m Ai Message \u001b[0m==================================\n",
      "Tool Calls:\n",
      "  retrieve (call_lTtd7NI0yexPFwMUujSjnRGp)\n",
      " Call ID: call_lTtd7NI0yexPFwMUujSjnRGp\n",
      "  Args:\n",
      "    query: نحوه ثبت آگهی در سایت\n",
      "=================================\u001b[1m Tool Message \u001b[0m=================================\n",
      "Name: retrieve\n",
      "\n",
      "(\"Source: {'source': '/content/drive/My Drive/delta.docx'}\\nContent: برای ورود به سایت نیاز به تعریف رمزعبور دارند.\\nپس ار احراز هویت می\\u200cتوانند ثبت آگهی کنند.\\nحساب من این کاربران مشابه تصویر زیر می\\u200cباشد.\\nشرح منوی کاربرمشاور آژانس :\\nصفحه اصلی پروفایل : \\nکاربر می\\u200cتواند موجودی حساب خود را مشاهده کند و دسترسی آسان به شارژکیف پول خود را دارد.\\nدر این صفحه کاربر می\\u200cتواند لیست آگهی\\u200cهایی که ثبت کرده است را مشاهده کند. \\nاقدام به ثبت فایل فروش ملک یا اجاره ملک کند.\\nنمودارهای مربوط به بازدید آگهی در یک روز ، 7 روز گشته را مشاهده کنند.\\nپر بازدیدترین کد ملکی ثبت شده خود را ببیند.\\nامکان مشاهده خلاصه وضعیت آگهی ها با دسته بندی مختلف وجود دارد.\\nلیست املاک من: \\nدر این بخش لیستی از املاکی که کاربر اقدام به ثبت آگهی آن کرده است نشان داده خواهد شد. همچنین در این صفحه می\\u200cتوانید با توجه به نوع معامله، نوع ملک و وضعیت ملک یا از روی کد ملک، املاک مورد نظر خود را جستجو نمایید.\\nدر این صفحه می\\u200cتوانید برای آگهی\\u200cهای ثبت شده عملیاتی مانند ویرایش، حذف، بایگانی، ارتقای آکهی و ... را انجام دهید.\\n\\nSource: {'source': '/content/drive/My Drive/delta.docx'}\\nContent: با انتخاب یکی از ملک های مورد نظر که در لیست قرار دارد، کاربران به صفحه جدیدی همانند تصویر زیر وارد خواهند شد:\\nدر این بخش کاربران می بایست یکی از گزینه های متراژ، ودیعه و\\xa0اجاره\\xa0را انتخاب کرده و سپس بر روی گزینه جستجو کلیک نمایند. بدین ترتیب نتیجه جستجو نمایش داده خواهد شد و کاربران می توانند با کلیک بر روی ملک مورد نظر، به اطلاعات ملک و مشاور املاک دسترسی پیدا نموده و اقدامات بعدی را انجام دهند.\\nاطلاعات موجود در صفحه آگهی ثبت شده :\\nدر صفحه\\u200cی مخصوص به هر آگهی همان\\u200cطور که در تصویر زیر مشاهده می\\u200cکنید در بالای آگهی سمت چپ گزینه\\u200cهایی با عنوان\\u200cهای اشتراک گذاری و نشان کردن وجود دارد که کاربر با انتخاب گزینه\\u200cی اشتراک گذاری لینکی جهت ارسال برای آنها نشان داده می\\u200cشود که با کپی کردن آن به آسانی می\\u200cتواند لینک را در اختیار افراد مورد نظر قرار دهد. و با انتخاب گزینه نشان کردن در پنل کاربر، آگهی انتخابی ذخیره می\\u200cشود.\", [Document(id='a4d6421d-40b8-4a98-943c-392e449388aa', metadata={'source': '/content/drive/My Drive/delta.docx'}, page_content='برای ورود به سایت نیاز به تعریف رمزعبور دارند.\\nپس ار احراز هویت می\\u200cتوانند ثبت آگهی کنند.\\nحساب من این کاربران مشابه تصویر زیر می\\u200cباشد.\\nشرح منوی کاربرمشاور آژانس :\\nصفحه اصلی پروفایل : \\nکاربر می\\u200cتواند موجودی حساب خود را مشاهده کند و دسترسی آسان به شارژکیف پول خود را دارد.\\nدر این صفحه کاربر می\\u200cتواند لیست آگهی\\u200cهایی که ثبت کرده است را مشاهده کند. \\nاقدام به ثبت فایل فروش ملک یا اجاره ملک کند.\\nنمودارهای مربوط به بازدید آگهی در یک روز ، 7 روز گشته را مشاهده کنند.\\nپر بازدیدترین کد ملکی ثبت شده خود را ببیند.\\nامکان مشاهده خلاصه وضعیت آگهی ها با دسته بندی مختلف وجود دارد.\\nلیست املاک من: \\nدر این بخش لیستی از املاکی که کاربر اقدام به ثبت آگهی آن کرده است نشان داده خواهد شد. همچنین در این صفحه می\\u200cتوانید با توجه به نوع معامله، نوع ملک و وضعیت ملک یا از روی کد ملک، املاک مورد نظر خود را جستجو نمایید.\\nدر این صفحه می\\u200cتوانید برای آگهی\\u200cهای ثبت شده عملیاتی مانند ویرایش، حذف، بایگانی، ارتقای آکهی و ... را انجام دهید.'), Document(id='24e58ba6-6813-41b2-a6eb-fc40c70af022', metadata={'source': '/content/drive/My Drive/delta.docx'}, page_content='با انتخاب یکی از ملک های مورد نظر که در لیست قرار دارد، کاربران به صفحه جدیدی همانند تصویر زیر وارد خواهند شد:\\nدر این بخش کاربران می بایست یکی از گزینه های متراژ، ودیعه و\\xa0اجاره\\xa0را انتخاب کرده و سپس بر روی گزینه جستجو کلیک نمایند. بدین ترتیب نتیجه جستجو نمایش داده خواهد شد و کاربران می توانند با کلیک بر روی ملک مورد نظر، به اطلاعات ملک و مشاور املاک دسترسی پیدا نموده و اقدامات بعدی را انجام دهند.\\nاطلاعات موجود در صفحه آگهی ثبت شده :\\nدر صفحه\\u200cی مخصوص به هر آگهی همان\\u200cطور که در تصویر زیر مشاهده می\\u200cکنید در بالای آگهی سمت چپ گزینه\\u200cهایی با عنوان\\u200cهای اشتراک گذاری و نشان کردن وجود دارد که کاربر با انتخاب گزینه\\u200cی اشتراک گذاری لینکی جهت ارسال برای آنها نشان داده می\\u200cشود که با کپی کردن آن به آسانی می\\u200cتواند لینک را در اختیار افراد مورد نظر قرار دهد. و با انتخاب گزینه نشان کردن در پنل کاربر، آگهی انتخابی ذخیره می\\u200cشود.')])\n",
      "==================================\u001b[1m Ai Message \u001b[0m==================================\n",
      "\n",
      "برای ثبت آگهی در سایت، ابتدا باید وارد حساب کاربری خود شوید و پس از احراز هویت، به صفحه اصلی پروفایل مراجعه کنید. در آنجا می‌توانید اقدام به ثبت فایل فروش یا اجاره ملک کنید و لیست آگهی‌های خود را مشاهده نمایید. همچنین می‌توانید با انجام عملیات مختلف مانند ویرایش و حذف، وضعیت آگهی‌های خود را مدیریت کنید.\n"
     ]
    }
   ],
   "source": [
    "input_message = \"نحوه ثبت آگهی در سایت چگونه است؟\"\n",
    "\n",
    "for step in graph.stream(\n",
    "    {\"messages\": [{\"role\": \"human\", \"content\": input_message}]},\n",
    "    stream_mode=\"values\"\n",
    "):\n",
    "    step[\"messages\"][-1].pretty_print()"
   ]
  },
  {
   "cell_type": "code",
   "execution_count": 29,
   "id": "43c98c16-362b-445f-9068-3d36fd5bbbe9",
   "metadata": {
    "scrolled": true
   },
   "outputs": [
    {
     "name": "stdout",
     "output_type": "stream",
     "text": [
      "min_meter=70 max_meter=70 min_price=3000000000 max_price=3000000000 city='tehran' elevator=None property_type='آپارتمان'\n",
      "search_properties_func args: city=tehran, min_price=3000000000, property_type=apartment\n"
     ]
    }
   ],
   "source": [
    "response = graph.invoke({\n",
    "    \"messages\": [HumanMessage(content=\"یه خونه 70 متری حدود ۳ میلیارد توی نیویورک میخوام بخرم\")]\n",
    "})\n",
    "# print(response)\n",
    "# print(response[\"answer\"])"
   ]
  }
 ],
 "metadata": {
  "kernelspec": {
   "display_name": "Python 3 (ipykernel)",
   "language": "python",
   "name": "python3"
  },
  "language_info": {
   "codemirror_mode": {
    "name": "ipython",
    "version": 3
   },
   "file_extension": ".py",
   "mimetype": "text/x-python",
   "name": "python",
   "nbconvert_exporter": "python",
   "pygments_lexer": "ipython3",
   "version": "3.12.9"
  }
 },
 "nbformat": 4,
 "nbformat_minor": 5
}
