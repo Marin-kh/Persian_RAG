{
 "cells": [
  {
   "cell_type": "code",
   "execution_count": 4,
   "id": "0a803f52-8a6d-4c6c-a59d-77a8228fffa3",
   "metadata": {},
   "outputs": [
    {
     "data": {
      "text/plain": [
       "True"
      ]
     },
     "execution_count": 4,
     "metadata": {},
     "output_type": "execute_result"
    }
   ],
   "source": [
    "from dotenv import load_dotenv\n",
    "load_dotenv()"
   ]
  },
  {
   "cell_type": "markdown",
   "id": "14e78cf8-78fa-4bd1-95ba-9013c932ba75",
   "metadata": {},
   "source": [
    "# Setup"
   ]
  },
  {
   "cell_type": "code",
   "execution_count": 37,
   "id": "84c8bce8-e4a7-4a30-8b13-383413e42c5d",
   "metadata": {},
   "outputs": [],
   "source": [
    "import json\n",
    "import getpass\n",
    "import os\n",
    "import pandas as pd\n",
    "from docx import Document as DocxDocument\n",
    "from IPython.display import Image, display\n",
    "from pydantic import Field\n",
    "from pydantic import BaseModel\n",
    "from typing import TypedDict, List, Annotated, Optional, Literal\n",
    "from langchain import hub\n",
    "from langchain_core.vectorstores import InMemoryVectorStore\n",
    "from langchain.docstore.document import Document\n",
    "from langchain_text_splitters import RecursiveCharacterTextSplitter\n",
    "from langchain.chat_models import init_chat_model\n",
    "from langchain_openai import OpenAIEmbeddings\n",
    "from langchain_huggingface import HuggingFaceEmbeddings\n",
    "from langchain_core.tools import tool\n",
    "from langchain_core.messages import SystemMessage,HumanMessage\n",
    "from langgraph.prebuilt import ToolNode\n",
    "from langgraph.graph import StateGraph, START, END\n",
    "from langgraph.graph import MessagesState, StateGraph\n",
    "from langgraph.prebuilt import ToolNode, tools_condition\n",
    "from langchain_core.messages import AnyMessage, AIMessage\n",
    "from fuzzywuzzy import fuzz"
   ]
  },
  {
   "cell_type": "code",
   "execution_count": 6,
   "id": "23cc0237-50c8-4a24-9777-149d8adee385",
   "metadata": {},
   "outputs": [],
   "source": [
    "from langfuse.callback import CallbackHandler\n",
    "\n",
    "langfuse_handler = CallbackHandler(\n",
    "  secret_key=\"sk-lf-aac7fcae-34e3-46d6-afc5-247c8ea59682\",\n",
    "  public_key=\"pk-lf-36ecf322-0d82-4071-acb2-5a77ed6858a5\",\n",
    "  host=\"https://cloud.langfuse.com\"\n",
    ")"
   ]
  },
  {
   "cell_type": "code",
   "execution_count": 7,
   "id": "264734e4-11dd-458f-a9e3-bc49d4449506",
   "metadata": {},
   "outputs": [],
   "source": [
    "if not os.environ.get(\"OPENAI_API_KEY\"):\n",
    "  os.environ[\"OPENAI_API_KEY\"] = getpass.getpass(\"Enter API key for OpenAI: \")\n",
    "\n",
    "llm = init_chat_model(\"gpt-4o-mini\", model_provider=\"openai\")\n",
    "embeddings = OpenAIEmbeddings(model=\"text-embedding-3-large\")\n"
   ]
  },
  {
   "cell_type": "code",
   "execution_count": 8,
   "id": "dac728d9-8123-4eaa-8c32-4208a9a69bbf",
   "metadata": {},
   "outputs": [],
   "source": [
    "vector_store = InMemoryVectorStore(embeddings)"
   ]
  },
  {
   "cell_type": "markdown",
   "id": "6c0b368a-3890-48f0-ab07-57296d5f4e62",
   "metadata": {},
   "source": [
    "# Document loader"
   ]
  },
  {
   "cell_type": "code",
   "execution_count": 32,
   "id": "dd6690e4-de8f-4a48-8c52-d7de496fef5b",
   "metadata": {},
   "outputs": [],
   "source": [
    "df_cities = pd.read_csv(\"/home/jovyan/projects/marin/delta-chatbot/notebooks/cities_per_en.csv\")\n",
    "df_regions = pd.read_csv(\"/home/jovyan/projects/marin/delta-chatbot/notebooks/regions.csv\")"
   ]
  },
  {
   "cell_type": "code",
   "execution_count": 10,
   "id": "43f28290-8727-49ff-abfc-7af6e7b06f0d",
   "metadata": {},
   "outputs": [],
   "source": [
    "docx = DocxDocument(\"/home/jovyan/projects/marin/delta-chatbot/notebooks/delta.docx\")\n",
    "text = \"\\n\".join([para.text for para in docx.paragraphs if para.text.strip()])\n",
    "\n",
    "docs = [Document(page_content=text, metadata={\"source\": \"/content/drive/My Drive/delta.docx\"})]"
   ]
  },
  {
   "cell_type": "code",
   "execution_count": 11,
   "id": "900123d1-d768-44e3-a714-a044328ada31",
   "metadata": {},
   "outputs": [],
   "source": [
    "text_splitter = RecursiveCharacterTextSplitter(chunk_size=1000, chunk_overlap=200)\n",
    "all_splits = text_splitter.split_documents(docs)"
   ]
  },
  {
   "cell_type": "code",
   "execution_count": 12,
   "id": "5e2179d2-9849-43ae-be23-48a1ee65691a",
   "metadata": {},
   "outputs": [
    {
     "name": "stderr",
     "output_type": "stream",
     "text": [
      "/opt/conda/lib/python3.12/site-packages/langsmith/client.py:272: LangSmithMissingAPIKeyWarning: API key must be provided when using hosted LangSmith API\n",
      "  warnings.warn(\n"
     ]
    }
   ],
   "source": [
    "_ = vector_store.add_documents(documents=all_splits)\n",
    "\n",
    "prompt = hub.pull(\"rlm/rag-prompt\")"
   ]
  },
  {
   "cell_type": "markdown",
   "id": "e4efc375-a904-4e87-bf90-189663524d97",
   "metadata": {},
   "source": [
    "# Functions & Classes"
   ]
  },
  {
   "cell_type": "code",
   "execution_count": 38,
   "id": "2d20a288-ed3a-4232-9134-27c582a517c2",
   "metadata": {},
   "outputs": [],
   "source": [
    "PROPERTY_TYPE_MAPPING = {\n",
    "    \"زمین\": {\"url\": \"store\", \"display\": \"زمین\"},\n",
    "    \"آپارتمان موقعیت اداری\": {\"url\": \"OfficeLocationApartment\", \"display\": \"آپارتمان موقعیت اداری\"},\n",
    "    \"باغ\": {\"url\": \"garden\", \"display\": \"باغ\"},\n",
    "    \"باغچه\": {\"url\": \"garden\", \"display\": \"باغ\"},\n",
    "    \"تجاری\": {\"url\": \"commercial\", \"display\": \"تجاری\"},\n",
    "    \"مغازه\": {\"url\": \"commercial\", \"display\": \"مغازه\"},\n",
    "    \"آپارتمان\": {\"url\": \"apartment\", \"display\": \"آپارتمان\"}\n",
    "}\n",
    "property_types = list(PROPERTY_TYPE_MAPPING.keys())"
   ]
  },
  {
   "cell_type": "code",
   "execution_count": 39,
   "id": "0750dd21-3e60-4e1d-8967-3d2eb842af53",
   "metadata": {},
   "outputs": [],
   "source": [
    "def fuzzy_search_return_link(user_input, df, threshold=80):\n",
    "    for idx, row in df.iterrows():\n",
    "        similarity = fuzz.partial_ratio(user_input.lower(), row['name'].lower())\n",
    "        if similarity >= threshold:\n",
    "            return row['link']\n",
    "    return None"
   ]
  },
  {
   "cell_type": "code",
   "execution_count": 88,
   "id": "2fedfb4d-aa34-4c11-b607-12165b09841d",
   "metadata": {},
   "outputs": [],
   "source": [
    "def search_properties(min_meter: Optional[int] = None, max_meter: Optional[int] = None,\n",
    "                      min_price: Optional[int] = None, max_price: Optional[int] = None,\n",
    "                      neighborhood: Optional[str] = None,\n",
    "                      city: Optional[str] = \"tehran\", elevator: Optional[bool] = None,\n",
    "                      property_type: Optional[str] = \"apartment\") -> str:\n",
    "    \"\"\"\n",
    "    if the user wants to buy or rent property make url with filters for city, area, price, elevator, and property type.\n",
    "    \"\"\"\n",
    "\n",
    "    if not property_type:\n",
    "        property_type = \"apartment\"\n",
    "    else:\n",
    "        property_type = PROPERTY_TYPE_MAPPING[property_type][\"url\"]\n",
    "        \n",
    "    base_url = f\"https://deltadev.ir/{city}/buy/{property_type}\"\n",
    "\n",
    "    if neighborhood:\n",
    "        fuzzy_result = fuzzy_search_return_link(neighborhood, df_regions)\n",
    "        if fuzzy_result:\n",
    "            base_url = base_url + '/' + fuzzy_result\n",
    "            \n",
    "    query_params = []\n",
    "    if min_meter is not None and max_meter is not None:\n",
    "        query_params.append(f\"meter={min_meter}-{max_meter}\")\n",
    "    elif min_meter is not None:\n",
    "        query_params.append(f\"meter={min_meter}-\")\n",
    "    elif max_meter is not None:\n",
    "        query_params.append(f\"meter=-{max_meter}\")\n",
    "\n",
    "    if min_price is not None and max_price is not None:\n",
    "        query_params.append(f\"price={min_price}-{max_price}\")\n",
    "    elif min_price is not None:\n",
    "        query_params.append(f\"price={min_price}-\")\n",
    "    elif max_price is not None:\n",
    "        query_params.append(f\"price=-{max_price}\")\n",
    "\n",
    "    if elevator:\n",
    "        query_params.append(\"features=elevator\")\n",
    "\n",
    "    query_string = \"?\" + \"&\".join(query_params) if query_params else \"\"\n",
    "    url = base_url + query_string\n",
    "\n",
    "    filters = []\n",
    "    if min_meter is not None and max_meter is not None:\n",
    "        filters.append(f\"{min_meter} تا {max_meter} متر\")\n",
    "    elif min_meter is not None:\n",
    "        filters.append(f\"حداقل {min_meter} متر\")\n",
    "    elif max_meter is not None:\n",
    "        filters.append(f\"حداکثر {max_meter} متر\")\n",
    "\n",
    "    if min_price is not None and max_price is not None:\n",
    "        filters.append(f\"بین {min_price:,} تا {max_price:,} تومان\")\n",
    "    elif min_price is not None:\n",
    "        filters.append(f\"حداقل {min_price:,} تومان\")\n",
    "    elif max_price is not None:\n",
    "        filters.append(f\"حداکثر {max_price:,} تومان\")\n",
    "\n",
    "    if elevator:\n",
    "        filters.append(\"با آسانسور\")\n",
    "\n",
    "    if filters:\n",
    "        filters_str = \"، \".join(filters)\n",
    "        explanation = f\"با ویژگی‌هایی که گفتید ({filters_str})، می‌توانید بر روی این لینک کلیک کنید و ملک‌های مشابه را پیدا کنید: {url}\"\n",
    "    else:\n",
    "        explanation = f\"می‌توانید بر روی این لینک کلیک کنید و ملک‌های موجود را مشاهده کنید: {url}\"\n",
    "\n",
    "    return url"
   ]
  },
  {
   "cell_type": "code",
   "execution_count": 89,
   "id": "6863b3c2-f808-492f-80d9-28fc3109019a",
   "metadata": {},
   "outputs": [],
   "source": [
    "class PropertyFeatures(BaseModel):\n",
    "    min_meter: Optional[int] = Field(default=None, description=\"Minimum square meters\")\n",
    "    max_meter: Optional[int] = Field(default=None, description=\"Maximum square meters\")\n",
    "    min_price: Optional[int] = Field(default=None, description=\"Minimum price in Tomans\")\n",
    "    max_price: Optional[int] = Field(default=None, description=\"Maximum price in Tomans\")\n",
    "    neighborhood: Optional[str] = Field(default=None, description=\"Neighborhood in tehran in persian\")\n",
    "    city: Literal[tuple(df_cities['city'])] = Field(default=\"other\", description=\"City name\")\n",
    "    elevator: Optional[bool] = Field(default=None, description=\"Elevator required (True/False)\")\n",
    "    property_type: Literal[*property_types]= Field(default=\"other\", description=\"property type\") "
   ]
  },
  {
   "cell_type": "code",
   "execution_count": 90,
   "id": "9e6b6364-8856-4cb8-b57a-ec5cb7a7d3cd",
   "metadata": {},
   "outputs": [],
   "source": [
    "class FollowUpQuestions(BaseModel):\n",
    "    follow_up_questions: List[str]"
   ]
  },
  {
   "cell_type": "code",
   "execution_count": 91,
   "id": "05903948-4091-414f-81e2-0c923c1e35ac",
   "metadata": {},
   "outputs": [],
   "source": [
    "from langchain_core.messages import AnyMessage \n",
    "\n",
    "class State(TypedDict):\n",
    "    messages: List[AnyMessage]\n",
    "    follow_up_questions: List[str]"
   ]
  },
  {
   "cell_type": "markdown",
   "id": "383907c3-7473-443c-a454-7e5ad0bec2eb",
   "metadata": {},
   "source": [
    "# Tools"
   ]
  },
  {
   "cell_type": "code",
   "execution_count": 96,
   "id": "8b527485-f263-47d1-9485-e4d5fe35c1ab",
   "metadata": {},
   "outputs": [],
   "source": [
    "@tool\n",
    "def retrieve(query: str):\n",
    "    \"\"\"Retrieves relevant documents based on the last message content.\"\"\"\n",
    "    print(\"retrieve tool used: \", property_features)\n",
    "    retrieved_docs = vector_store.similarity_search(query, k=2)\n",
    "    serialized = \"\\n\\n\".join(\n",
    "        (f\"Source: {doc.metadata}\\n\" f\"Content: {doc.page_content}\")\n",
    "        for doc in retrieved_docs\n",
    "    )\n",
    "    return serialized, retrieved_docs\n",
    "\n",
    "\n",
    "@tool\n",
    "def make_buy_url(query: str):\n",
    "    \"\"\"\n",
    "    If user wants to buy a property, \n",
    "    Extracts property features from the last message using a structured LLM \n",
    "    and make a url based on features.\n",
    "    \"\"\"\n",
    "    structured_llm = llm.with_structured_output(PropertyFeatures)\n",
    "    property_features = structured_llm.invoke(query)\n",
    "    print(\"make_buy_url tool used with this parameters: \", property_features)\n",
    "\n",
    "    result = search_properties(**property_features.model_dump())\n",
    "\n",
    "    return result\n",
    "    \n",
    "tools = [retrieve, make_buy_url]"
   ]
  },
  {
   "cell_type": "markdown",
   "id": "c2dec019-1c2d-4301-998e-d1875532326f",
   "metadata": {},
   "source": [
    "# Chains"
   ]
  },
  {
   "cell_type": "code",
   "execution_count": 97,
   "id": "e82ee4d5-4a05-4c12-beb3-e21ee4569700",
   "metadata": {},
   "outputs": [],
   "source": [
    "def query_or_respond(state: State):\n",
    "    \"\"\"Generate tool call or respond.\"\"\"\n",
    "    llm_with_tools = llm.bind_tools(tools)\n",
    "    response = llm_with_tools.invoke(state[\"messages\"])\n",
    "\n",
    "    return {\"messages\": [response]}\n",
    "\n",
    "\n",
    "def generate(state: State):\n",
    "    recent_tool_messages = []\n",
    "    for message in reversed(state[\"messages\"]):\n",
    "        if message.type == \"tool\":\n",
    "            recent_tool_messages.append(message)\n",
    "        else:\n",
    "            break\n",
    "    tool_messages = recent_tool_messages[::-1]\n",
    "\n",
    "    docs_content = \"\\n\\n\".join(\n",
    "        doc.content for doc in tool_messages\n",
    "        if not doc.content.startswith(\"Source:\")\n",
    "    )\n",
    "    system_message_content = (\n",
    "        \"You are an Real estate consultant for question-answering tasks. \"\n",
    "        \"Use the following pieces of retrieved context to answer Persian. \"\n",
    "        \"If you got an url, give the url to user and don't change the url. \"\n",
    "        \"If you don't know the answer, say that you \"\n",
    "        \"don't know. Use three sentences maximum and keep the answer concise. \"\n",
    "        \"don't mention the source of the document, only answer it\"\n",
    "        \"Provide only the answer, no source or metadata.\"\n",
    "        \"\\n\\n\"\n",
    "        f\"{docs_content}\"\n",
    "    )\n",
    "    conversation_messages = [\n",
    "        message\n",
    "        for message in state[\"messages\"]\n",
    "        if message.type in (\"human\", \"system\")\n",
    "        or (message.type == \"ai\" and not message.tool_calls)\n",
    "    ]\n",
    "    prompt = [SystemMessage(content=system_message_content)] + conversation_messages\n",
    "\n",
    "    response = llm.invoke(prompt)\n",
    "\n",
    "    follow_up_system_message = SystemMessage(\n",
    "        content=(\n",
    "            \"Based on the user's query, suggest 2-3 relevant follow-up questions in Persian. \"\n",
    "            \"Return each question on a new line.\"\n",
    "        )\n",
    "    )\n",
    "    follow_up_prompt = [follow_up_system_message] + prompt + [response]\n",
    "    follow_up_response = llm.invoke(follow_up_prompt)\n",
    "\n",
    "    follow_up_questions = [\n",
    "        q.strip() for q in follow_up_response.content.split(\"\\n\") if q.strip()\n",
    "    ]\n",
    "\n",
    "    return {\n",
    "        \"messages\": [AIMessage(content=response.content)],\n",
    "        \"follow_up_questions\": follow_up_questions\n",
    "    }\n",
    "\n",
    "\n",
    "graph_builder = StateGraph(State)\n",
    "graph_builder.add_node(query_or_respond)\n",
    "tool_node = ToolNode(tools)\n",
    "graph_builder.add_node(tool_node)\n",
    "graph_builder.add_node(generate)\n",
    "\n",
    "graph_builder.set_entry_point(\"query_or_respond\")\n",
    "graph_builder.add_conditional_edges(\n",
    "    \"query_or_respond\",\n",
    "    tools_condition,\n",
    "    {END: END, \"tools\": \"tools\"},\n",
    ")\n",
    "graph_builder.add_edge(\"tools\", \"generate\")\n",
    "graph_builder.add_edge(\"generate\", END)\n",
    "\n",
    "graph = graph_builder.compile()"
   ]
  },
  {
   "cell_type": "code",
   "execution_count": 71,
   "id": "af10d38b-3d89-4ace-a059-3603ee0f793f",
   "metadata": {
    "scrolled": true
   },
   "outputs": [
    {
     "data": {
      "image/png": "[encoded data removed]",
      "text/plain": [
       "<langgraph.graph.state.CompiledStateGraph object at 0x7f2b828dcda0>"
      ]
     },
     "execution_count": 71,
     "metadata": {},
     "output_type": "execute_result"
    }
   ],
   "source": [
    "graph"
   ]
  },
  {
   "cell_type": "markdown",
   "id": "d78d6c07-6796-4c0e-a41c-07afa9b0ae3b",
   "metadata": {},
   "source": [
    "# Usage"
   ]
  },
  {
   "cell_type": "code",
   "execution_count": 72,
   "id": "91437cf9-93f0-41bb-8d2e-b1e11c8713bb",
   "metadata": {},
   "outputs": [],
   "source": [
    "import uuid\n",
    "thread_id = str(uuid.uuid4())\n",
    "config={\n",
    "    \"callbacks\": [langfuse_handler],\n",
    "    \"configurable\": {\"thread_id\": thread_id},\n",
    "    \"metadata\": {\"langfuse_session_id\": thread_id},\n",
    "}"
   ]
  },
  {
   "cell_type": "code",
   "execution_count": 99,
   "id": "84c534f5-e470-4f49-972d-017d90f94b41",
   "metadata": {},
   "outputs": [
    {
     "name": "stdout",
     "output_type": "stream",
     "text": [
      "make_buy_url tool used with this parameters:  min_meter=1 max_meter=200 min_price=3000000000 max_price=None neighborhood='ولیعصر' city='tehran' elevator=None property_type='آپارتمان'\n",
      "==================================\u001b[1m Ai Message \u001b[0m==================================\n",
      "\n",
      "برای خرید آپارتمان در منطقه ۳ تهران در محدوده میدان ولیعصر و خیابان Parkway با متراژ بین ۱ تا ۲۰۰ متر و قیمت حداکثر ۳ میلیارد تومان می‌توانید به لینک زیر مراجعه کنید: https://deltadev.ir/tehran/buy/apartment/region-3-valiasr-parkway?meter=1-200&price=3000000000-\n",
      "\n",
      "سوالات پیشنهادی:\n",
      "- آیا به دنبال اطلاعات بیشتری درباره امکانات موجود در آپارتمان‌ها هستید؟\n",
      "- شما چه نوع خریدی در نظر دارید، خرید و یا اجاره؟\n",
      "- بودجه شما برای خرید آپارتمان چقدر است؟\n"
     ]
    }
   ],
   "source": [
    "# input_message = \"میخوام یه خونه تو قیطریه بخرم بالای 3 میلیارد و زیر 200 متر\"\n",
    "input_message = \"میخوام یه خونه تو ولیعصر بخرم بالای 3 میلیارد و زیر 200 متر\"\n",
    "\n",
    "result = graph.invoke(\n",
    "    {\"messages\": [{\"role\": \"user\", \"content\": input_message}]},\n",
    "    config=config\n",
    ")\n",
    "\n",
    "result[\"messages\"][-1].pretty_print()\n",
    "\n",
    "if \"follow_up_questions\" in result:\n",
    "    print(\"\\nسوالات پیشنهادی:\")\n",
    "    for q in result[\"follow_up_questions\"]:\n",
    "        print(\"-\", q)\n"
   ]
  },
  {
   "cell_type": "code",
   "execution_count": 33,
   "id": "54135506-5ca0-491e-bf2b-214a5a9b3a72",
   "metadata": {},
   "outputs": [
    {
     "data": {
      "text/html": [
       "<div>\n",
       "<style scoped>\n",
       "    .dataframe tbody tr th:only-of-type {\n",
       "        vertical-align: middle;\n",
       "    }\n",
       "\n",
       "    .dataframe tbody tr th {\n",
       "        vertical-align: top;\n",
       "    }\n",
       "\n",
       "    .dataframe thead th {\n",
       "        text-align: right;\n",
       "    }\n",
       "</style>\n",
       "<table border=\"1\" class=\"dataframe\">\n",
       "  <thead>\n",
       "    <tr style=\"text-align: right;\">\n",
       "      <th></th>\n",
       "      <th>name</th>\n",
       "      <th>link</th>\n",
       "    </tr>\n",
       "  </thead>\n",
       "  <tbody>\n",
       "    <tr>\n",
       "      <th>0</th>\n",
       "      <td>دربند</td>\n",
       "      <td>region-1-darband</td>\n",
       "    </tr>\n",
       "    <tr>\n",
       "      <th>1</th>\n",
       "      <td>نیاوران</td>\n",
       "      <td>region-1-niavaran</td>\n",
       "    </tr>\n",
       "    <tr>\n",
       "      <th>2</th>\n",
       "      <td>جمشیدیه جماران</td>\n",
       "      <td>region-1-jamshidiyeh-jamaran</td>\n",
       "    </tr>\n",
       "    <tr>\n",
       "      <th>3</th>\n",
       "      <td>زعفرانیه</td>\n",
       "      <td>region-1-zafaraniyeh</td>\n",
       "    </tr>\n",
       "    <tr>\n",
       "      <th>4</th>\n",
       "      <td>محمودیه</td>\n",
       "      <td>region-1-mahmoodiyeh</td>\n",
       "    </tr>\n",
       "    <tr>\n",
       "      <th>...</th>\n",
       "      <td>...</td>\n",
       "      <td>...</td>\n",
       "    </tr>\n",
       "    <tr>\n",
       "      <th>461</th>\n",
       "      <td>شهرک شهید خرازی</td>\n",
       "      <td>region-21-22-kharazi-town</td>\n",
       "    </tr>\n",
       "    <tr>\n",
       "      <th>462</th>\n",
       "      <td>پژوهش شمالی</td>\n",
       "      <td>region-21-22-north-pajoohesh</td>\n",
       "    </tr>\n",
       "    <tr>\n",
       "      <th>463</th>\n",
       "      <td>کوهک</td>\n",
       "      <td>region-21-22-kuhak</td>\n",
       "    </tr>\n",
       "    <tr>\n",
       "      <th>464</th>\n",
       "      <td>آزادشهر</td>\n",
       "      <td>region-21-22-azadshahr</td>\n",
       "    </tr>\n",
       "    <tr>\n",
       "      <th>465</th>\n",
       "      <td>هوانیروز</td>\n",
       "      <td>region-21-22-havanirooz</td>\n",
       "    </tr>\n",
       "  </tbody>\n",
       "</table>\n",
       "<p>466 rows × 2 columns</p>\n",
       "</div>"
      ],
      "text/plain": [
       "                name                          link\n",
       "0              دربند              region-1-darband\n",
       "1            نیاوران             region-1-niavaran\n",
       "2     جمشیدیه جماران  region-1-jamshidiyeh-jamaran\n",
       "3           زعفرانیه          region-1-zafaraniyeh\n",
       "4            محمودیه          region-1-mahmoodiyeh\n",
       "..               ...                           ...\n",
       "461  شهرک شهید خرازی     region-21-22-kharazi-town\n",
       "462      پژوهش شمالی  region-21-22-north-pajoohesh\n",
       "463             کوهک            region-21-22-kuhak\n",
       "464          آزادشهر        region-21-22-azadshahr\n",
       "465         هوانیروز       region-21-22-havanirooz\n",
       "\n",
       "[466 rows x 2 columns]"
      ]
     },
     "execution_count": 33,
     "metadata": {},
     "output_type": "execute_result"
    }
   ],
   "source": [
    "df_regions\n"
   ]
  }
 ],
 "metadata": {
  "kernelspec": {
   "display_name": "Python 3 (ipykernel)",
   "language": "python",
   "name": "python3"
  },
  "language_info": {
   "codemirror_mode": {
    "name": "ipython",
    "version": 3
   },
   "file_extension": ".py",
   "mimetype": "text/x-python",
   "name": "python",
   "nbconvert_exporter": "python",
   "pygments_lexer": "ipython3",
   "version": "3.12.9"
  }
 },
 "nbformat": 4,
 "nbformat_minor": 5
}
